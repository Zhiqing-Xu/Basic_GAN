{
 "cells": [
  {
   "attachments": {},
   "cell_type": "markdown",
   "metadata": {},
   "source": [
    "# <center> **-- Image Generation Pipeline --** </center>\n",
    "\n",
    "## <font size=\"20\"> &#10148; </font> Introduction\n",
    "- This file provides a pipeline to generate face images.\n",
    "    - A trained DCGAN (that is trained using Train_Enhanced_DCGAN.ipynb) is loaded to generate low-resolution images.\n",
    "    - A SRGAN model trained by others is used to scale-up the resolution of the generate images.\n",
    "    "
   ]
  },
  {
   "attachments": {},
   "cell_type": "markdown",
   "metadata": {},
   "source": [
    "\n",
    "<br/>\n",
    "\n",
    "## <font size=\"20\"> &#8681; </font> Import"
   ]
  },
  {
   "cell_type": "code",
   "execution_count": 144,
   "metadata": {},
   "outputs": [],
   "source": [
    "# import\n",
    "#--------------------------------------------------#\n",
    "import os \n",
    "import sys\n",
    "import os.path\n",
    "from sys import platform\n",
    "from pathlib import Path\n",
    "#--------------------------------------------------#\n",
    "import re\n",
    "import sys\n",
    "import time\n",
    "import copy\n",
    "import math\n",
    "import html\n",
    "import scipy\n",
    "import pickle\n",
    "import random\n",
    "import argparse\n",
    "import subprocess\n",
    "import numpy as np\n",
    "import pandas as pd\n",
    "\n",
    "#--------------------------------------------------#\n",
    "import torch\n",
    "import torch.nn as nn\n",
    "import torch.nn.functional as F\n",
    "import torchvision.transforms as tt\n",
    "\n",
    "from torchvision.utils import make_grid\n",
    "from torchvision.utils import save_image\n",
    "from torch.utils.data import DataLoader\n",
    "from torchvision.datasets import ImageFolder\n",
    "\n",
    "#--------------------------------------------------#\n",
    "import cv2\n",
    "\n",
    "#--------------------------------------------------#\n",
    "from tqdm.notebook import tqdm\n",
    "\n",
    "#--------------------------------------------------#\n",
    "import seaborn as sns\n",
    "import matplotlib as mpl\n",
    "import matplotlib.pyplot as plt\n",
    "\n",
    "#--------------------------------------------------#\n",
    "from IPython.display import Image\n",
    "%matplotlib inline\n",
    "\n",
    "\n"
   ]
  },
  {
   "attachments": {},
   "cell_type": "markdown",
   "metadata": {},
   "source": [
    "\n",
    "<br/>\n",
    "\n",
    "## <font size=\"20\"> &#8681; </font> Preparation\n",
    "\n",
    "- Identify CPU/GPU devide.\n",
    "- Ensure Mutliple Device Compatibility"
   ]
  },
  {
   "cell_type": "code",
   "execution_count": 5,
   "metadata": {},
   "outputs": [],
   "source": [
    "def to_device(data, device):\n",
    "    # Move tensor(s) to chosen device\n",
    "    if isinstance(data, (list, tuple)):\n",
    "        return [to_device(x, device) for x in data]\n",
    "    return data.to(device, non_blocking = True)\n",
    "\n",
    "def is_cuda_available():\n",
    "    if torch.cuda.is_available():\n",
    "        print(\"CUDA available. Running on GPU!\")\n",
    "        return torch.device('cuda')\n",
    "    else:\n",
    "        print(\"CUDA not available. Running on CPU!\")\n",
    "        return torch.device('cpu')"
   ]
  },
  {
   "attachments": {},
   "cell_type": "markdown",
   "metadata": {},
   "source": [
    "\n",
    "<br/>\n",
    "\n",
    "## <font size=\"20\"> &#8681; </font> Load Model - Enhanced DCGAN\n"
   ]
  },
  {
   "cell_type": "code",
   "execution_count": 34,
   "metadata": {},
   "outputs": [],
   "source": [
    "# Load the Model - Enhanced DCGAN.\n",
    "\n",
    "def generator_settings(num_channel     = 3     ,     # Number of channels (for color images num_channel = 3)\n",
    "                       size_latent     = 128   ,     # Size of z latent vector.\n",
    "                       size_feat_map_g = 64    ,     # Size of feature maps in generator.\n",
    "                       size_feat_map_d = 64    ,     # Size of feature maps in discriminator.\n",
    "                       ):\n",
    "\n",
    "    generator_1 = nn.Sequential(\n",
    "\n",
    "        # Input: N x size_latent_z x 1 x 1\n",
    "        nn.ConvTranspose2d(size_latent         , \n",
    "                        size_feat_map_g * 32, \n",
    "                        kernel_size = 4     , \n",
    "                        stride      = 2     , \n",
    "                        padding     = 0     , \n",
    "                        bias        = False),\n",
    "        nn.BatchNorm2d(size_feat_map_g * 32),\n",
    "        nn.ReLU(True),\n",
    "        # out: ... x 4 x 4 \n",
    "\n",
    "        nn.ConvTranspose2d(size_feat_map_g * 32, \n",
    "                        size_feat_map_g * 16, \n",
    "                        kernel_size = 4     , \n",
    "                        stride      = 2     , \n",
    "                        padding     = 1     , \n",
    "                        bias        = False),\n",
    "        nn.BatchNorm2d(size_feat_map_g * 16),\n",
    "        nn.ReLU(True),\n",
    "        # out: ... x 8 x 8 \n",
    "\n",
    "        nn.ConvTranspose2d(size_feat_map_g * 16, \n",
    "                        size_feat_map_g * 8 , \n",
    "                        kernel_size = 4     , \n",
    "                        stride      = 2     , \n",
    "                        padding     = 1     , \n",
    "                        bias        = False),\n",
    "        nn.BatchNorm2d(size_feat_map_g * 8),\n",
    "        nn.ReLU(True),\n",
    "        # out: ... x 16 x 16 \n",
    "\n",
    "        nn.ConvTranspose2d(size_feat_map_g * 8 , \n",
    "                        size_feat_map_g * 4 , \n",
    "                        kernel_size = 4     , \n",
    "                        stride      = 2     , \n",
    "                        padding     = 1     , \n",
    "                        bias        = False),\n",
    "        nn.BatchNorm2d(size_feat_map_g * 4),\n",
    "        nn.ReLU(True),\n",
    "        # out: ... x 32 x 32 \n",
    "\n",
    "        nn.ConvTranspose2d(size_feat_map_g * 4 , \n",
    "                        size_feat_map_g * 2 , \n",
    "                        kernel_size = 4     , \n",
    "                        stride      = 2     , \n",
    "                        padding     = 1     , \n",
    "                        bias        = False),\n",
    "        nn.BatchNorm2d(size_feat_map_g * 2),\n",
    "        nn.ReLU(True),\n",
    "        # out: ... x 64 x 64 \n",
    "\n",
    "\n",
    "        nn.ConvTranspose2d(size_feat_map_g * 2 , \n",
    "                        num_channel         , \n",
    "                        kernel_size = 4     , \n",
    "                        stride      = 2     , \n",
    "                        padding     = 1     , \n",
    "                        bias        = False),\n",
    "        nn.Tanh()\n",
    "        # out: 3 x 128 x 128\n",
    "    )\n",
    "\n",
    "    return generator_1\n",
    "\n"
   ]
  },
  {
   "attachments": {},
   "cell_type": "markdown",
   "metadata": {},
   "source": [
    "\n",
    "<br/>\n",
    "\n",
    "## <font size=\"20\"> &#8681; </font> Load Model - Original DCGAN\n"
   ]
  },
  {
   "cell_type": "code",
   "execution_count": 68,
   "metadata": {},
   "outputs": [],
   "source": [
    "\n",
    "latent_size = 128\n",
    "generator_original_DCGAN = nn.Sequential(\n",
    "\n",
    "    # in: latent_size x 1 x 1\n",
    "    nn.ConvTranspose2d(latent_size, 512, kernel_size=4, stride=1, padding=0, bias=False),\n",
    "    nn.BatchNorm2d(512),\n",
    "    nn.ReLU(True),\n",
    "    # out: 512 x 4 x 4\n",
    "\n",
    "    nn.ConvTranspose2d(512, 256, kernel_size=4, stride=2, padding=1, bias=False),\n",
    "    nn.BatchNorm2d(256),\n",
    "    nn.ReLU(True),\n",
    "    # out: 256 x 8 x 8\n",
    "\n",
    "    nn.ConvTranspose2d(256, 128, kernel_size=4, stride=2, padding=1, bias=False),\n",
    "    nn.BatchNorm2d(128),\n",
    "    nn.ReLU(True),\n",
    "    # out: 128 x 16 x 16\n",
    "\n",
    "    nn.ConvTranspose2d(128, 64, kernel_size=4, stride=2, padding=1, bias=False),\n",
    "    nn.BatchNorm2d(64),\n",
    "    nn.ReLU(True),\n",
    "    # out: 64 x 32 x 32\n",
    "\n",
    "    nn.ConvTranspose2d(64, 3, kernel_size=4, stride=2, padding=1, bias=False),\n",
    "    nn.Tanh()\n",
    "    # out: 3 x 64 x 64\n",
    ")\n"
   ]
  },
  {
   "attachments": {},
   "cell_type": "markdown",
   "metadata": {},
   "source": [
    "\n",
    "<br/>\n",
    "\n",
    "## <font size=\"20\"> &#8681; </font> Define Functions for generating images\n"
   ]
  },
  {
   "cell_type": "code",
   "execution_count": 189,
   "metadata": {},
   "outputs": [],
   "source": [
    "# Image Generation.\n",
    "\n",
    "def denorm(img_tensors):\n",
    "    stats = ((0.5, 0.5, 0.5), (0.5, 0.5, 0.5))\n",
    "    return img_tensors * stats[1][0] + stats[0][0]\n",
    "\n",
    "\n",
    "def generate_image_grid(generator, latent_tensors, show = True, image_folder = 'Sample_Image_Output', img_name = \"test\"):\n",
    "    os.makedirs(image_folder, exist_ok = True)\n",
    "    fake_images  =  generator(latent_tensors)\n",
    "    fake_img_nme   = 'Generated_Images_Grid_' + img_name + '.png'\n",
    "    save_image(denorm(fake_images), os.path.join(image_folder, fake_img_nme), nrow = 6)\n",
    "    print('Saving', fake_img_nme)\n",
    "    if show:\n",
    "        fig, ax = plt.subplots(figsize=(6, 6))\n",
    "        ax.set_xticks([]); ax.set_yticks([])\n",
    "        ax.imshow(make_grid(fake_images.cpu().detach(), nrow = 6).permute(1, 2, 0))\n",
    "        return\n",
    "\n",
    "\n",
    "def generate_one_image(generator, latent_tensors, show = True, image_folder = 'Sample_Image_Output', img_name = \"test\", img_selected = 20):\n",
    "    os.makedirs(image_folder, exist_ok = True)\n",
    "    fake_images    =  generator(latent_tensors)\n",
    "    fake_img_nme   = 'Generated_Images_' + img_name + '.png'\n",
    "    denmormed_img  = denorm(fake_images) \n",
    "    save_image(denmormed_img[img_selected], Path(image_folder) / fake_img_nme, nrow = 1)\n",
    "\n",
    "    if show:\n",
    "        fig, ax = plt.subplots(figsize=(6, 6))\n",
    "        ax.set_xticks([]); ax.set_yticks([])\n",
    "        ax.imshow(make_grid(fake_images.cpu().detach(), nrow = 1).permute(1, 2, 0))\n",
    "        return\n"
   ]
  },
  {
   "attachments": {},
   "cell_type": "markdown",
   "metadata": {},
   "source": [
    "\n",
    "<br/>\n",
    "\n",
    "## <font size=\"20\"> &#8681; </font> Use Model - Original DCGAN to generate images.\n"
   ]
  },
  {
   "cell_type": "code",
   "execution_count": 191,
   "metadata": {},
   "outputs": [
    {
     "name": "stdout",
     "output_type": "stream",
     "text": [
      "CUDA available. Running on GPU!\n",
      "Saving Generated_Images_Grid_test_1.png\n"
     ]
    },
    {
     "data": {
      "image/png": "[encoded data removed]",
      "text/plain": [
       "<IPython.core.display.Image object>"
      ]
     },
     "execution_count": 191,
     "metadata": {
      "image/png": {
       "height": 500,
       "width": 500
      }
     },
     "output_type": "execute_result"
    }
   ],
   "source": [
    "device = is_cuda_available()\n",
    "ImgGer_OriginDCGAN = generator_original_DCGAN\n",
    "ImgGer_OriginDCGAN.load_state_dict(torch.load(\"Saving_folder/generator_celeba_56.pt\"))  # 56\n",
    "ImgGer_OriginDCGAN = to_device(ImgGer_OriginDCGAN, device)\n",
    "\n",
    "#--------------------------------------------------#\n",
    "# Ensure reproducibility.\n",
    "seed = 42\n",
    "random.seed(seed)\n",
    "np.random.seed(seed)\n",
    "torch.manual_seed(seed)\n",
    "torch.cuda.manual_seed(seed)\n",
    "torch.cuda.manual_seed_all(seed)\n",
    "\n",
    "size_latent = 128\n",
    "\n",
    "fixed_latent = torch.randn(36, size_latent, 1, 1, device = device)\n",
    "\n",
    "generate_image_grid(generator      = ImgGer_OriginDCGAN    , \n",
    "                    latent_tensors = fixed_latent          ,\n",
    "                    show           = False                 ,\n",
    "                    image_folder   = 'Sample_Image_Output' ,\n",
    "                    img_name       = \"test_1\"\n",
    "                    )\n",
    "\n",
    "fixed_latent_one_img = torch.randn(1, size_latent, 1, 1, device = device)\n",
    "generate_one_image(generator      = ImgGer_OriginDCGAN    , \n",
    "                   latent_tensors = fixed_latent          ,\n",
    "                   show           = False                 ,\n",
    "                   image_folder   = 'Sample_Image_Output' ,\n",
    "                   img_name       = \"test_1\"              ,\n",
    "                   img_selected   = 20                    ,\n",
    "                    )\n",
    "\n",
    "Image('./Sample_Image_Output/Generated_Images_test_1.png', width = 500, height = 500)"
   ]
  },
  {
   "attachments": {},
   "cell_type": "markdown",
   "metadata": {},
   "source": [
    "\n",
    "<br/>\n",
    "\n",
    "## <font size=\"20\"> &#8681; </font> Use Model - Enhanced DCGAN to generate images."
   ]
  },
  {
   "cell_type": "code",
   "execution_count": 220,
   "metadata": {},
   "outputs": [
    {
     "name": "stdout",
     "output_type": "stream",
     "text": [
      "CUDA available. Running on GPU!\n",
      "Saving Generated_Images_Grid_EDCGAN_test_2.png\n"
     ]
    },
    {
     "data": {
      "image/png": "[encoded data removed]",
      "text/plain": [
       "<IPython.core.display.Image object>"
      ]
     },
     "execution_count": 220,
     "metadata": {
      "image/png": {
       "height": 500,
       "width": 500
      }
     },
     "output_type": "execute_result"
    }
   ],
   "source": [
    "device = is_cuda_available()\n",
    "\n",
    "generator_1 = generator_settings()\n",
    "generator_1.load_state_dict(torch.load(\"Sample_Generator_Model/generator_celeba_51.pt\"))\n",
    "generator_1 = to_device(generator_1, device)\n",
    "\n",
    "#--------------------------------------------------#\n",
    "# Ensure reproducibility.\n",
    "seed = 1624\n",
    "random.seed(seed)\n",
    "np.random.seed(seed)\n",
    "torch.manual_seed(seed)\n",
    "torch.cuda.manual_seed(seed)\n",
    "torch.cuda.manual_seed_all(seed)\n",
    "\n",
    "size_latent = 128\n",
    "\n",
    "fixed_latent = torch.randn(36, size_latent, 1, 1, device = device)\n",
    "\n",
    "\n",
    "image_folder = \"Sample_Image_Output\"\n",
    "img_name     = \"EDCGAN_test_2\"\n",
    "\n",
    "generate_image_grid(generator      = generator_1           , \n",
    "                    latent_tensors = fixed_latent          ,\n",
    "                    show           = False                 ,\n",
    "                    image_folder   = image_folder          ,\n",
    "                    img_name       = img_name              ,\n",
    "                    )\n",
    "\n",
    "fixed_latent_one_img = torch.randn(1, size_latent, 1, 1, device = device)\n",
    "generate_one_image(generator      = generator_1           , \n",
    "                   latent_tensors = fixed_latent          ,\n",
    "                   show           = False                 ,\n",
    "                   image_folder   = image_folder          ,\n",
    "                   img_name       = img_name              ,\n",
    "                   img_selected   = 33                    ,\n",
    "                    )\n",
    "\n",
    "Image( image_folder + \"/Generated_Images_\" + img_name + \".png\", width = 500, height = 500)\n",
    "\n",
    "\n",
    "\n"
   ]
  },
  {
   "cell_type": "code",
   "execution_count": null,
   "metadata": {},
   "outputs": [],
   "source": []
  },
  {
   "cell_type": "code",
   "execution_count": null,
   "metadata": {},
   "outputs": [],
   "source": []
  },
  {
   "cell_type": "code",
   "execution_count": null,
   "metadata": {},
   "outputs": [],
   "source": []
  },
  {
   "cell_type": "code",
   "execution_count": null,
   "metadata": {},
   "outputs": [],
   "source": []
  },
  {
   "cell_type": "code",
   "execution_count": null,
   "metadata": {},
   "outputs": [],
   "source": []
  },
  {
   "cell_type": "code",
   "execution_count": null,
   "metadata": {},
   "outputs": [],
   "source": []
  },
  {
   "cell_type": "code",
   "execution_count": null,
   "metadata": {},
   "outputs": [],
   "source": []
  }
 ],
 "metadata": {
  "kernelspec": {
   "display_name": "CSC401",
   "language": "python",
   "name": "python3"
  },
  "language_info": {
   "codemirror_mode": {
    "name": "ipython",
    "version": 3
   },
   "file_extension": ".py",
   "mimetype": "text/x-python",
   "name": "python",
   "nbconvert_exporter": "python",
   "pygments_lexer": "ipython3",
   "version": "3.11.0"
  },
  "orig_nbformat": 4
 },
 "nbformat": 4,
 "nbformat_minor": 2
}
